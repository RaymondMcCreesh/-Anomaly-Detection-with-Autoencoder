{
 "cells": [
  {
   "cell_type": "markdown",
   "metadata": {
    "id": "hZTZKxJcH-2y"
   },
   "source": [
    "\n",
    "# Anomaly Detection using Autoencoders\n",
    "\n",
    "In this project, I explore the application of autoencoders for anomaly detection. By working with a mystery dataset containing multiple explanatory variables and a response variable, I aim to identify anomalous data points.\n"
   ]
  },
  {
   "cell_type": "markdown",
   "metadata": {
    "id": "YOmL579kH-29"
   },
   "source": [
    "\n",
    "## Context of the Project\n",
    "\n",
    "For this project, I'm working with a mystery dataset that consists of 9 explanatory variables and one response variable. The response variable, found in the last column, indicates whether a sample is anomalous (1 for anomalous, 0 for valid). This dataset is sourced from \"data.csv\".\n",
    "\n",
    "While it might be possible to utilize supervised learning to create a model for anomaly detection, my primary interest lies in the capabilities of autoencoders. Even though I'm aware of the low anomaly rate in the dataset, I've chosen to approach this problem as if I'm unaware of the anomalous data points. This will allow me to truly test the effectiveness of the autoencoder in detecting anomalies.\n"
   ]
  },
  {
   "cell_type": "code",
   "execution_count": 1,
   "metadata": {
    "id": "c20xDJgJIz2-"
   },
   "outputs": [],
   "source": [
    "\n",
    "## Project Breakdown\n",
    "\n",
    "Throughout this exploration, I've divided my approach into several key stages:\n",
    "\n",
    "1. **Data Pre-processing**: I delved into the initial dataset, focusing on the steps and techniques used to preprocess the data for this unsupervised learning model.\n",
    "2. **Model Training**: I ensured the model trained to convergence, selecting a topology that incorporated 2 encoded variables.\n",
    "3. **Threshold Selection**: One crucial step involved determining a suitable threshold for identifying anomalous data. I'll discuss my rationale behind the chosen threshold.\n",
    "4. **Implementing a VAE**: As a final step, I experimented with implementing a Variational Autoencoder (VAE) and tested its capabilities against the dataset.\n"
   ]
  },
  {
   "cell_type": "markdown",
   "metadata": {
    "id": "G-oN9QA8H-2_"
   },
   "source": [
    "\n",
    "## Project Challenges\n",
    "\n",
    "While training a modest feed-forward network using supervised learning can yield impressive recall and precision rates, especially with unbalanced datasets, I decided to take a different route. My primary goal was to detect anomalies using an autoencoder without relying on the 'Anom' flag for training guidance.\n",
    "\n",
    "One of the initial challenges was sourcing the mystery dataset. After obtaining it, I faced the subsequent steps and their inherent complexities, which I've outlined in the project breakdown.\n"
   ]
  },
  {
   "cell_type": "markdown",
   "metadata": {
    "id": "ZwRsvI0dH-3B"
   },
   "source": [
    "\n",
    "### Data Pre-processing\n",
    "\n",
    "During the data preprocessing phase, I focused on understanding the nature of the dataset and preparing it for the subsequent stages. One crucial decision involved how I partitioned the data into training and test sets. Given the limited knowledge about the anomalous samples, except for their scarcity, I approached this step with caution to ensure a representative split.\n"
   ]
  },
  {
   "cell_type": "markdown",
   "metadata": {
    "id": "wkrz66V5H-3C"
   },
   "source": [
    "**Step 1: data preprocessing**\n",
    "\n",
    "Explain any preprocessing steps I take and also how I have selected the training and test sets. Remember we do not know which samples are anomalous only that there are a small number of them compared to the total sample size.\n",
    "\n",
    "\n",
    "In this step, I explored the data's characteristics and made necessary adjustments to ensure its suitability for the modeling phase."
   ]
  },
  {
   "cell_type": "code",
   "execution_count": 2,
   "metadata": {
    "id": "L9QziKUDIwAP"
   },
   "outputs": [],
   "source": [
    "df = pd.read_csv(\"data.csv\")"
   ]
  },
  {
   "cell_type": "code",
   "execution_count": 3,
   "metadata": {
    "colab": {
     "base_uri": "https://localhost:8080/"
    },
    "id": "HlKfZ9s4JdRh",
    "outputId": "a64af91f-598c-41de-efcc-d8c21a37519a"
   },
   "outputs": [
    {
     "name": "stdout",
     "output_type": "stream",
     "text": [
      "<class 'pandas.core.frame.DataFrame'>\n",
      "RangeIndex: 49097 entries, 0 to 49096\n",
      "Data columns (total 10 columns):\n",
      " #   Column  Non-Null Count  Dtype\n",
      "---  ------  --------------  -----\n",
      " 0   V1      49097 non-null  int64\n",
      " 1   V2      49097 non-null  int64\n",
      " 2   V3      49097 non-null  int64\n",
      " 3   V4      49097 non-null  int64\n",
      " 4   V5      49097 non-null  int64\n",
      " 5   V6      49097 non-null  int64\n",
      " 6   V7      49097 non-null  int64\n",
      " 7   V8      49097 non-null  int64\n",
      " 8   V9      49097 non-null  int64\n",
      " 9   Anom    49097 non-null  int64\n",
      "dtypes: int64(10)\n",
      "memory usage: 3.7 MB\n"
     ]
    }
   ],
   "source": [
    "df.info()"
   ]
  },
  {
   "cell_type": "code",
   "execution_count": 4,
   "metadata": {
    "colab": {
     "base_uri": "https://localhost:8080/",
     "height": 300
    },
    "id": "shbhH3rQKMsn",
    "outputId": "1fcd3092-bcd5-4318-f732-23da295c4472"
   },
   "outputs": [
    {
     "data": {
      "text/html": [
       "\n",
       "  <div id=\"df-b1a60766-398b-4b53-b495-1b7759c50e97\">\n",
       "    <div class=\"colab-df-container\">\n",
       "      <div>\n",
       "<style scoped>\n",
       "    .dataframe tbody tr th:only-of-type {\n",
       "        vertical-align: middle;\n",
       "    }\n",
       "\n",
       "    .dataframe tbody tr th {\n",
       "        vertical-align: top;\n",
       "    }\n",
       "\n",
       "    .dataframe thead th {\n",
       "        text-align: right;\n",
       "    }\n",
       "</style>\n",
       "<table border=\"1\" class=\"dataframe\">\n",
       "  <thead>\n",
       "    <tr style=\"text-align: right;\">\n",
       "      <th></th>\n",
       "      <th>V1</th>\n",
       "      <th>V2</th>\n",
       "      <th>V3</th>\n",
       "      <th>V4</th>\n",
       "      <th>V5</th>\n",
       "      <th>V6</th>\n",
       "      <th>V7</th>\n",
       "      <th>V8</th>\n",
       "      <th>V9</th>\n",
       "      <th>Anom</th>\n",
       "    </tr>\n",
       "  </thead>\n",
       "  <tbody>\n",
       "    <tr>\n",
       "      <th>count</th>\n",
       "      <td>49097.000000</td>\n",
       "      <td>49097.000000</td>\n",
       "      <td>49097.000000</td>\n",
       "      <td>49097.000000</td>\n",
       "      <td>49097.000000</td>\n",
       "      <td>49097.000000</td>\n",
       "      <td>49097.000000</td>\n",
       "      <td>49097.000000</td>\n",
       "      <td>49097.000000</td>\n",
       "      <td>49097.000000</td>\n",
       "    </tr>\n",
       "    <tr>\n",
       "      <th>mean</th>\n",
       "      <td>46.932399</td>\n",
       "      <td>-0.063955</td>\n",
       "      <td>85.123124</td>\n",
       "      <td>0.213231</td>\n",
       "      <td>36.871784</td>\n",
       "      <td>2.160030</td>\n",
       "      <td>38.200725</td>\n",
       "      <td>48.288592</td>\n",
       "      <td>10.261930</td>\n",
       "      <td>0.071511</td>\n",
       "    </tr>\n",
       "    <tr>\n",
       "      <th>std</th>\n",
       "      <td>12.875159</td>\n",
       "      <td>84.674481</td>\n",
       "      <td>8.877517</td>\n",
       "      <td>37.579171</td>\n",
       "      <td>19.963113</td>\n",
       "      <td>218.324964</td>\n",
       "      <td>13.446306</td>\n",
       "      <td>20.572064</td>\n",
       "      <td>23.751024</td>\n",
       "      <td>0.257680</td>\n",
       "    </tr>\n",
       "    <tr>\n",
       "      <th>min</th>\n",
       "      <td>27.000000</td>\n",
       "      <td>-4821.000000</td>\n",
       "      <td>21.000000</td>\n",
       "      <td>-3939.000000</td>\n",
       "      <td>-188.000000</td>\n",
       "      <td>-26739.000000</td>\n",
       "      <td>-48.000000</td>\n",
       "      <td>-353.000000</td>\n",
       "      <td>-356.000000</td>\n",
       "      <td>0.000000</td>\n",
       "    </tr>\n",
       "    <tr>\n",
       "      <th>25%</th>\n",
       "      <td>37.000000</td>\n",
       "      <td>0.000000</td>\n",
       "      <td>79.000000</td>\n",
       "      <td>0.000000</td>\n",
       "      <td>30.000000</td>\n",
       "      <td>-4.000000</td>\n",
       "      <td>33.000000</td>\n",
       "      <td>35.000000</td>\n",
       "      <td>0.000000</td>\n",
       "      <td>0.000000</td>\n",
       "    </tr>\n",
       "    <tr>\n",
       "      <th>50%</th>\n",
       "      <td>44.000000</td>\n",
       "      <td>0.000000</td>\n",
       "      <td>83.000000</td>\n",
       "      <td>0.000000</td>\n",
       "      <td>42.000000</td>\n",
       "      <td>0.000000</td>\n",
       "      <td>39.000000</td>\n",
       "      <td>41.000000</td>\n",
       "      <td>2.000000</td>\n",
       "      <td>0.000000</td>\n",
       "    </tr>\n",
       "    <tr>\n",
       "      <th>75%</th>\n",
       "      <td>50.000000</td>\n",
       "      <td>0.000000</td>\n",
       "      <td>88.000000</td>\n",
       "      <td>0.000000</td>\n",
       "      <td>46.000000</td>\n",
       "      <td>5.000000</td>\n",
       "      <td>43.000000</td>\n",
       "      <td>55.000000</td>\n",
       "      <td>6.000000</td>\n",
       "      <td>0.000000</td>\n",
       "    </tr>\n",
       "    <tr>\n",
       "      <th>max</th>\n",
       "      <td>126.000000</td>\n",
       "      <td>5075.000000</td>\n",
       "      <td>149.000000</td>\n",
       "      <td>3830.000000</td>\n",
       "      <td>436.000000</td>\n",
       "      <td>15164.000000</td>\n",
       "      <td>105.000000</td>\n",
       "      <td>270.000000</td>\n",
       "      <td>266.000000</td>\n",
       "      <td>1.000000</td>\n",
       "    </tr>\n",
       "  </tbody>\n",
       "</table>\n",
       "</div>\n",
       "      <button class=\"colab-df-convert\" onclick=\"convertToInteractive('df-b1a60766-398b-4b53-b495-1b7759c50e97')\"\n",
       "              title=\"Convert this dataframe to an interactive table.\"\n",
       "              style=\"display:none;\">\n",
       "        \n",
       "  <svg xmlns=\"http://www.w3.org/2000/svg\" height=\"24px\"viewBox=\"0 0 24 24\"\n",
       "       width=\"24px\">\n",
       "    <path d=\"M0 0h24v24H0V0z\" fill=\"none\"/>\n",
       "    <path d=\"M18.56 5.44l.94 2.06.94-2.06 2.06-.94-2.06-.94-.94-2.06-.94 2.06-2.06.94zm-11 1L8.5 8.5l.94-2.06 2.06-.94-2.06-.94L8.5 2.5l-.94 2.06-2.06.94zm10 10l.94 2.06.94-2.06 2.06-.94-2.06-.94-.94-2.06-.94 2.06-2.06.94z\"/><path d=\"M17.41 7.96l-1.37-1.37c-.4-.4-.92-.59-1.43-.59-.52 0-1.04.2-1.43.59L10.3 9.45l-7.72 7.72c-.78.78-.78 2.05 0 2.83L4 21.41c.39.39.9.59 1.41.59.51 0 1.02-.2 1.41-.59l7.78-7.78 2.81-2.81c.8-.78.8-2.07 0-2.86zM5.41 20L4 18.59l7.72-7.72 1.47 1.35L5.41 20z\"/>\n",
       "  </svg>\n",
       "      </button>\n",
       "      \n",
       "  <style>\n",
       "    .colab-df-container {\n",
       "      display:flex;\n",
       "      flex-wrap:wrap;\n",
       "      gap: 12px;\n",
       "    }\n",
       "\n",
       "    .colab-df-convert {\n",
       "      background-color: #E8F0FE;\n",
       "      border: none;\n",
       "      border-radius: 50%;\n",
       "      cursor: pointer;\n",
       "      display: none;\n",
       "      fill: #1967D2;\n",
       "      height: 32px;\n",
       "      padding: 0 0 0 0;\n",
       "      width: 32px;\n",
       "    }\n",
       "\n",
       "    .colab-df-convert:hover {\n",
       "      background-color: #E2EBFA;\n",
       "      box-shadow: 0px 1px 2px rgba(60, 64, 67, 0.3), 0px 1px 3px 1px rgba(60, 64, 67, 0.15);\n",
       "      fill: #174EA6;\n",
       "    }\n",
       "\n",
       "    [theme=dark] .colab-df-convert {\n",
       "      background-color: #3B4455;\n",
       "      fill: #D2E3FC;\n",
       "    }\n",
       "\n",
       "    [theme=dark] .colab-df-convert:hover {\n",
       "      background-color: #434B5C;\n",
       "      box-shadow: 0px 1px 3px 1px rgba(0, 0, 0, 0.15);\n",
       "      filter: drop-shadow(0px 1px 2px rgba(0, 0, 0, 0.3));\n",
       "      fill: #FFFFFF;\n",
       "    }\n",
       "  </style>\n",
       "\n",
       "      <script>\n",
       "        const buttonEl =\n",
       "          document.querySelector('#df-b1a60766-398b-4b53-b495-1b7759c50e97 button.colab-df-convert');\n",
       "        buttonEl.style.display =\n",
       "          google.colab.kernel.accessAllowed ? 'block' : 'none';\n",
       "\n",
       "        async function convertToInteractive(key) {\n",
       "          const element = document.querySelector('#df-b1a60766-398b-4b53-b495-1b7759c50e97');\n",
       "          const dataTable =\n",
       "            await google.colab.kernel.invokeFunction('convertToInteractive',\n",
       "                                                     [key], {});\n",
       "          if (!dataTable) return;\n",
       "\n",
       "          const docLinkHtml = 'Like what you see? Visit the ' +\n",
       "            '<a target=\"_blank\" href=https://colab.research.google.com/notebooks/data_table.ipynb>data table notebook</a>'\n",
       "            + ' to learn more about interactive tables.';\n",
       "          element.innerHTML = '';\n",
       "          dataTable['output_type'] = 'display_data';\n",
       "          await google.colab.output.renderOutput(dataTable, element);\n",
       "          const docLink = document.createElement('div');\n",
       "          docLink.innerHTML = docLinkHtml;\n",
       "          element.appendChild(docLink);\n",
       "        }\n",
       "      </script>\n",
       "    </div>\n",
       "  </div>\n",
       "  "
      ],
      "text/plain": [
       "                 V1            V2            V3            V4            V5  \\\n",
       "count  49097.000000  49097.000000  49097.000000  49097.000000  49097.000000   \n",
       "mean      46.932399     -0.063955     85.123124      0.213231     36.871784   \n",
       "std       12.875159     84.674481      8.877517     37.579171     19.963113   \n",
       "min       27.000000  -4821.000000     21.000000  -3939.000000   -188.000000   \n",
       "25%       37.000000      0.000000     79.000000      0.000000     30.000000   \n",
       "50%       44.000000      0.000000     83.000000      0.000000     42.000000   \n",
       "75%       50.000000      0.000000     88.000000      0.000000     46.000000   \n",
       "max      126.000000   5075.000000    149.000000   3830.000000    436.000000   \n",
       "\n",
       "                 V6            V7            V8            V9          Anom  \n",
       "count  49097.000000  49097.000000  49097.000000  49097.000000  49097.000000  \n",
       "mean       2.160030     38.200725     48.288592     10.261930      0.071511  \n",
       "std      218.324964     13.446306     20.572064     23.751024      0.257680  \n",
       "min   -26739.000000    -48.000000   -353.000000   -356.000000      0.000000  \n",
       "25%       -4.000000     33.000000     35.000000      0.000000      0.000000  \n",
       "50%        0.000000     39.000000     41.000000      2.000000      0.000000  \n",
       "75%        5.000000     43.000000     55.000000      6.000000      0.000000  \n",
       "max    15164.000000    105.000000    270.000000    266.000000      1.000000  "
      ]
     },
     "execution_count": 4,
     "metadata": {},
     "output_type": "execute_result"
    }
   ],
   "source": [
    "#gets statistic about the dataset columns\n",
    "df.describe()"
   ]
  },
  {
   "cell_type": "code",
   "execution_count": 5,
   "metadata": {
    "colab": {
     "base_uri": "https://localhost:8080/"
    },
    "id": "79_CrbrcKY0m",
    "outputId": "29e13bfd-380e-40cd-e3de-74cd02d7c034"
   },
   "outputs": [
    {
     "data": {
      "text/plain": [
       "V1      0\n",
       "V2      0\n",
       "V3      0\n",
       "V4      0\n",
       "V5      0\n",
       "V6      0\n",
       "V7      0\n",
       "V8      0\n",
       "V9      0\n",
       "Anom    0\n",
       "dtype: int64"
      ]
     },
     "execution_count": 5,
     "metadata": {},
     "output_type": "execute_result"
    }
   ],
   "source": [
    "# check if there are any null values\n",
    "df.isnull().sum()"
   ]
  },
  {
   "cell_type": "code",
   "execution_count": 6,
   "metadata": {
    "colab": {
     "base_uri": "https://localhost:8080/",
     "height": 879
    },
    "id": "Ws7W2u60ijYH",
    "outputId": "48c177c1-4225-4102-baa6-534b62846e91"
   },
   "outputs": [
    {
     "data": {
      "image/png": "[encoded data removed]",
      "text/plain": [
       "<Figure size 1440x1080 with 12 Axes>"
      ]
     },
     "metadata": {
      "needs_background": "light"
     },
     "output_type": "display_data"
    }
   ],
   "source": [
    "# Plot histograms for each variable to check the distribution\n",
    "df.hist(bins=50, figsize=(20,15))\n",
    "plt.show()\n"
   ]
  },
  {
   "cell_type": "code",
   "execution_count": 7,
   "metadata": {
    "id": "6_udrzykKftm"
   },
   "outputs": [],
   "source": [
    "# # # Initialize the scaler\n",
    "# scaler = MinMaxScaler()\n",
    "\n",
    "# # Fit the scaler to the training data\n",
    "# #turn back to pandas dataframe\n",
    "# df_scaled = pd.DataFrame(scaler.fit_transform(df), columns=df.columns)\n",
    "# # df_scaled = (df - df.min())/(df.max() - df.min())"
   ]
  },
  {
   "cell_type": "code",
   "execution_count": 8,
   "metadata": {
    "id": "RM1U4QKHMNvr"
   },
   "outputs": [],
   "source": [
    "# Assign the features and labels\n",
    "X = df.iloc[:, :-1]  # select all rows and all columns except the last one\n",
    "Y = df.iloc[:, -1]\n",
    "# Split the data\n",
    "X_train, X_test, y_train, y_test = train_test_split(X, Y, test_size=0.2, random_state=42)"
   ]
  },
  {
   "cell_type": "markdown",
   "metadata": {
    "id": "MRExWikFin1C"
   },
   "source": [
    "it was determined that scaling was best done after the data was split, so as not to corrupt the data separation by normailsing beforehand"
   ]
  },
  {
   "cell_type": "code",
   "execution_count": 9,
   "metadata": {
    "id": "V5iuBux2aMk4"
   },
   "outputs": [],
   "source": [
    "scaler = MinMaxScaler()\n",
    "scaler.fit(X_train)\n",
    "\n",
    "X_train = scaler.transform(X_train)\n",
    "X_test = scaler.transform(X_test)"
   ]
  },
  {
   "cell_type": "code",
   "execution_count": 10,
   "metadata": {
    "colab": {
     "base_uri": "https://localhost:8080/"
    },
    "id": "H1vEPqsUjn5W",
    "outputId": "d34f6db7-626a-4765-a508-0fa1a2f17478"
   },
   "outputs": [
    {
     "name": "stdout",
     "output_type": "stream",
     "text": [
      "(39277, 9)\n",
      "(9820, 9)\n"
     ]
    }
   ],
   "source": [
    "print(X_train.shape)\n",
    "print(X_test.shape)"
   ]
  },
  {
   "cell_type": "markdown",
   "metadata": {
    "id": "UELA6I9KH-3D"
   },
   "source": [
    "**Step 2: model generation and training**\n",
    "\n",
    "Generate a suitable autoencoder model, the only restriction is that there should be only 2 latent variables. Train the model to a satistifactory result. Be aware that it will be much harder to achieve the sort of result I can get from a supervised learning model. \n",
    "\n",
    "**Hint**: it should not take longer than a 1000 epochs to train. However it may be difficult to train. Use different optimizers, topologies and/or weight initialisations to get convergence. Remember that achieving a perfect error means that the model will also be good at reconstructing anomalies. \n",
    "\n",
    "\n",
    "Training the model was a balance between selecting the right parameters and ensuring convergence. I experimented with various topologies before settling on one that resonated with the dataset's nuances."
   ]
  },
  {
   "cell_type": "markdown",
   "metadata": {
    "id": "GoCUyKFpjZyh"
   },
   "source": [
    "**Autoencoder**\n"
   ]
  },
  {
   "cell_type": "markdown",
   "metadata": {
    "id": "XfB9Aok3pSnD"
   },
   "source": [
    "I had originally made a more complicated moodel with more layers but later decided to simplify it as it seemed to be over fitting."
   ]
  },
  {
   "cell_type": "code",
   "execution_count": 11,
   "metadata": {
    "colab": {
     "base_uri": "https://localhost:8080/"
    },
    "id": "mKsjrk6MSdEz",
    "outputId": "a7068415-cb3c-4bbe-9d28-58d5159f259d"
   },
   "outputs": [
    {
     "name": "stdout",
     "output_type": "stream",
     "text": [
      "Model: \"encoded\"\n",
      "_________________________________________________________________\n",
      " Layer (type)                Output Shape              Param #   \n",
      "=================================================================\n",
      " input_1 (InputLayer)        [(None, 9)]               0         \n",
      "                                                                 \n",
      " dense (Dense)               (None, 16)                160       \n",
      "                                                                 \n",
      " dense_1 (Dense)             (None, 8)                 136       \n",
      "                                                                 \n",
      " dense_2 (Dense)             (None, 2)                 18        \n",
      "                                                                 \n",
      "=================================================================\n",
      "Total params: 314\n",
      "Trainable params: 314\n",
      "Non-trainable params: 0\n",
      "_________________________________________________________________\n",
      "Model: \"decoded\"\n",
      "_________________________________________________________________\n",
      " Layer (type)                Output Shape              Param #   \n",
      "=================================================================\n",
      " input_2 (InputLayer)        [(None, 2)]               0         \n",
      "                                                                 \n",
      " dense_3 (Dense)             (None, 8)                 24        \n",
      "                                                                 \n",
      " dense_4 (Dense)             (None, 16)                144       \n",
      "                                                                 \n",
      " dense_5 (Dense)             (None, 9)                 153       \n",
      "                                                                 \n",
      "=================================================================\n",
      "Total params: 321\n",
      "Trainable params: 321\n",
      "Non-trainable params: 0\n",
      "_________________________________________________________________\n",
      "Model: \"model\"\n",
      "__________________________________________________________________________________________________\n",
      " Layer (type)                   Output Shape         Param #     Connected to                     \n",
      "==================================================================================================\n",
      " input_1 (InputLayer)           [(None, 9)]          0           []                               \n",
      "                                                                                                  \n",
      " encoded (Functional)           (None, 2)            314         ['input_1[0][0]']                \n",
      "                                                                                                  \n",
      " decoded (Functional)           (None, 9)            321         ['encoded[0][0]']                \n",
      "                                                                                                  \n",
      " tf.convert_to_tensor (TFOpLamb  (None, 9)           0           ['decoded[0][0]']                \n",
      " da)                                                                                              \n",
      "                                                                                                  \n",
      " tf.cast (TFOpLambda)           (None, 9)            0           ['input_1[0][0]']                \n",
      "                                                                                                  \n",
      " tf.math.squared_difference (TF  (None, 9)           0           ['tf.convert_to_tensor[0][0]',   \n",
      " OpLambda)                                                        'tf.cast[0][0]']                \n",
      "                                                                                                  \n",
      " tf.math.reduce_mean (TFOpLambd  (None,)             0           ['tf.math.squared_difference[0][0\n",
      " a)                                                              ]']                              \n",
      "                                                                                                  \n",
      " tf.math.multiply (TFOpLambda)  (None,)              0           ['tf.math.reduce_mean[0][0]']    \n",
      "                                                                                                  \n",
      " tf.math.reduce_sum (TFOpLambda  ()                  0           ['tf.math.multiply[0][0]']       \n",
      " )                                                                                                \n",
      "                                                                                                  \n",
      " tf.compat.v1.size (TFOpLambda)  ()                  0           ['tf.math.multiply[0][0]']       \n",
      "                                                                                                  \n",
      " tf.math.reduce_sum_1 (TFOpLamb  ()                  0           ['tf.math.reduce_sum[0][0]']     \n",
      " da)                                                                                              \n",
      "                                                                                                  \n",
      " tf.cast_1 (TFOpLambda)         ()                   0           ['tf.compat.v1.size[0][0]']      \n",
      "                                                                                                  \n",
      " tf.math.divide_no_nan (TFOpLam  ()                  0           ['tf.math.reduce_sum_1[0][0]',   \n",
      " bda)                                                             'tf.cast_1[0][0]']              \n",
      "                                                                                                  \n",
      " add_loss (AddLoss)             ()                   0           ['tf.math.divide_no_nan[0][0]']  \n",
      "                                                                                                  \n",
      "==================================================================================================\n",
      "Total params: 635\n",
      "Trainable params: 635\n",
      "Non-trainable params: 0\n",
      "__________________________________________________________________________________________________\n"
     ]
    }
   ],
   "source": [
    "from tensorflow.keras.layers import Input, Dense, Conv2D, Conv2DTranspose, MaxPooling2D\n",
    "from tensorflow.keras.models import Model\n",
    "\n",
    "import tensorflow as tf\n",
    "\n",
    "# Define the input layer\n",
    "input_data = Input(shape=(X_train.shape[1],))\n",
    "\n",
    "# Define the encoder\n",
    "# encoded = Dense(32, activation='relu')(input_data)\n",
    "encoded = Dense(16, activation='relu')(input_data)\n",
    "encoded = Dense(8, activation='relu')(encoded)\n",
    "encoded = Dense(2, activation='relu')(encoded)\n",
    "\n",
    "encoder = Model(input_data, encoded, name='encoded')\n",
    "encoder.summary()\n",
    "\n",
    "# Define the decoder\n",
    "# decoder takes the latenet space variables\n",
    "decoded = Dense(8, activation='relu')(encoded)\n",
    "decoded = Dense(16, activation='relu')(decoded)\n",
    "# decoded = Dense(32, activation='relu')(decoded)\n",
    "decoded = Dense(9, activation='linear')(decoded)\n",
    "\n",
    "decoder = Model(encoded, decoded, name='decoded')\n",
    "decoder.summary()\n",
    "\n",
    "# define the autoEncoder\n",
    "\n",
    "rec = decoder(encoder(input_data))\n",
    "autoencoder = Model(input_data,rec)\n",
    "reconstruction_loss = tf.keras.losses.MeanSquaredError()(input_data, rec)\n",
    "autoencoder.add_loss(reconstruction_loss)\n",
    "autoencoder.compile(optimizer='adam')\n",
    "autoencoder.summary()"
   ]
  },
  {
   "cell_type": "code",
   "execution_count": 12,
   "metadata": {
    "colab": {
     "base_uri": "https://localhost:8080/"
    },
    "id": "e5dbHelVdbh7",
    "outputId": "64f9b3ac-10b6-46fb-a370-8b13a951d854"
   },
   "outputs": [
    {
     "name": "stdout",
     "output_type": "stream",
     "text": [
      "Epoch 1/100\n",
      "307/307 [==============================] - 3s 7ms/step - loss: 0.0421 - val_loss: 0.0036\n",
      "Epoch 2/100\n",
      "307/307 [==============================] - 2s 6ms/step - loss: 0.0024 - val_loss: 0.0012\n",
      "Epoch 3/100\n",
      "307/307 [==============================] - 2s 8ms/step - loss: 9.7252e-04 - val_loss: 8.6292e-04\n",
      "Epoch 4/100\n",
      "307/307 [==============================] - 3s 8ms/step - loss: 8.4533e-04 - val_loss: 7.9306e-04\n",
      "Epoch 5/100\n",
      "307/307 [==============================] - 2s 6ms/step - loss: 7.8353e-04 - val_loss: 7.3841e-04\n",
      "Epoch 6/100\n",
      "307/307 [==============================] - 2s 5ms/step - loss: 7.2913e-04 - val_loss: 6.8345e-04\n",
      "Epoch 7/100\n",
      "307/307 [==============================] - 2s 7ms/step - loss: 6.7541e-04 - val_loss: 6.2783e-04\n",
      "Epoch 8/100\n",
      "307/307 [==============================] - 2s 6ms/step - loss: 6.1646e-04 - val_loss: 5.6800e-04\n",
      "Epoch 9/100\n",
      "307/307 [==============================] - 2s 6ms/step - loss: 5.5218e-04 - val_loss: 5.0476e-04\n",
      "Epoch 10/100\n",
      "307/307 [==============================] - 3s 9ms/step - loss: 4.8660e-04 - val_loss: 4.4386e-04\n",
      "Epoch 11/100\n",
      "307/307 [==============================] - 2s 6ms/step - loss: 4.3434e-04 - val_loss: 3.9681e-04\n",
      "Epoch 12/100\n",
      "307/307 [==============================] - 1s 3ms/step - loss: 3.9623e-04 - val_loss: 3.7011e-04\n",
      "Epoch 13/100\n",
      "307/307 [==============================] - 1s 3ms/step - loss: 3.7718e-04 - val_loss: 3.5564e-04\n",
      "Epoch 14/100\n",
      "307/307 [==============================] - 1s 3ms/step - loss: 3.6550e-04 - val_loss: 3.4890e-04\n",
      "Epoch 15/100\n",
      "307/307 [==============================] - 1s 3ms/step - loss: 3.6165e-04 - val_loss: 3.4537e-04\n",
      "Epoch 16/100\n",
      "307/307 [==============================] - 1s 2ms/step - loss: 3.5949e-04 - val_loss: 3.4508e-04\n",
      "Epoch 17/100\n",
      "307/307 [==============================] - 1s 3ms/step - loss: 3.5650e-04 - val_loss: 3.4170e-04\n",
      "Epoch 18/100\n",
      "307/307 [==============================] - 1s 2ms/step - loss: 3.5518e-04 - val_loss: 3.4136e-04\n",
      "Epoch 19/100\n",
      "307/307 [==============================] - 1s 3ms/step - loss: 3.5434e-04 - val_loss: 3.3865e-04\n",
      "Epoch 20/100\n",
      "307/307 [==============================] - 1s 3ms/step - loss: 3.5278e-04 - val_loss: 3.3951e-04\n",
      "Epoch 21/100\n",
      "307/307 [==============================] - 1s 2ms/step - loss: 3.5261e-04 - val_loss: 3.4453e-04\n",
      "Epoch 22/100\n",
      "307/307 [==============================] - 1s 4ms/step - loss: 3.5276e-04 - val_loss: 3.4262e-04\n",
      "Epoch 23/100\n",
      "307/307 [==============================] - 1s 4ms/step - loss: 3.5127e-04 - val_loss: 3.3723e-04\n",
      "Epoch 24/100\n",
      "307/307 [==============================] - 1s 3ms/step - loss: 3.5037e-04 - val_loss: 3.3616e-04\n",
      "Epoch 25/100\n",
      "307/307 [==============================] - 1s 3ms/step - loss: 3.5066e-04 - val_loss: 3.3574e-04\n",
      "Epoch 26/100\n",
      "307/307 [==============================] - 1s 2ms/step - loss: 3.4932e-04 - val_loss: 3.3802e-04\n",
      "Epoch 27/100\n",
      "307/307 [==============================] - 1s 3ms/step - loss: 3.4913e-04 - val_loss: 3.3576e-04\n",
      "Epoch 28/100\n",
      "307/307 [==============================] - 1s 3ms/step - loss: 3.4829e-04 - val_loss: 3.3406e-04\n",
      "Epoch 29/100\n",
      "307/307 [==============================] - 1s 3ms/step - loss: 3.4697e-04 - val_loss: 3.3538e-04\n",
      "Epoch 30/100\n",
      "307/307 [==============================] - 1s 3ms/step - loss: 3.4506e-04 - val_loss: 3.3766e-04\n",
      "Epoch 31/100\n",
      "307/307 [==============================] - 1s 3ms/step - loss: 3.4629e-04 - val_loss: 3.3040e-04\n",
      "Epoch 32/100\n",
      "307/307 [==============================] - 1s 3ms/step - loss: 3.4387e-04 - val_loss: 3.2863e-04\n",
      "Epoch 33/100\n",
      "307/307 [==============================] - 1s 3ms/step - loss: 3.4346e-04 - val_loss: 3.2669e-04\n",
      "Epoch 34/100\n",
      "307/307 [==============================] - 1s 2ms/step - loss: 3.4183e-04 - val_loss: 3.2523e-04\n",
      "Epoch 35/100\n",
      "307/307 [==============================] - 1s 3ms/step - loss: 3.3996e-04 - val_loss: 3.2450e-04\n",
      "Epoch 36/100\n",
      "307/307 [==============================] - 1s 4ms/step - loss: 3.3830e-04 - val_loss: 3.2226e-04\n",
      "Epoch 37/100\n",
      "307/307 [==============================] - 1s 5ms/step - loss: 3.3866e-04 - val_loss: 3.2158e-04\n",
      "Epoch 38/100\n",
      "307/307 [==============================] - 1s 3ms/step - loss: 3.3624e-04 - val_loss: 3.2122e-04\n",
      "Epoch 39/100\n",
      "307/307 [==============================] - 1s 2ms/step - loss: 3.3569e-04 - val_loss: 3.2112e-04\n",
      "Epoch 40/100\n",
      "307/307 [==============================] - 1s 3ms/step - loss: 3.3390e-04 - val_loss: 3.2052e-04\n",
      "Epoch 41/100\n",
      "307/307 [==============================] - 1s 3ms/step - loss: 3.3363e-04 - val_loss: 3.2317e-04\n",
      "Epoch 42/100\n",
      "307/307 [==============================] - 1s 3ms/step - loss: 3.3259e-04 - val_loss: 3.2021e-04\n",
      "Epoch 43/100\n",
      "307/307 [==============================] - 1s 3ms/step - loss: 3.3062e-04 - val_loss: 3.1920e-04\n",
      "Epoch 44/100\n",
      "307/307 [==============================] - 1s 3ms/step - loss: 3.2929e-04 - val_loss: 3.2788e-04\n",
      "Epoch 45/100\n",
      "307/307 [==============================] - 1s 3ms/step - loss: 3.2969e-04 - val_loss: 3.1501e-04\n",
      "Epoch 46/100\n",
      "307/307 [==============================] - 1s 2ms/step - loss: 3.2906e-04 - val_loss: 3.1319e-04\n",
      "Epoch 47/100\n",
      "307/307 [==============================] - 1s 3ms/step - loss: 3.2950e-04 - val_loss: 3.1211e-04\n",
      "Epoch 48/100\n",
      "307/307 [==============================] - 1s 3ms/step - loss: 3.2798e-04 - val_loss: 3.1805e-04\n",
      "Epoch 49/100\n",
      "307/307 [==============================] - 1s 3ms/step - loss: 3.2732e-04 - val_loss: 3.1840e-04\n",
      "Epoch 50/100\n",
      "307/307 [==============================] - 1s 4ms/step - loss: 3.2642e-04 - val_loss: 3.1421e-04\n",
      "Epoch 51/100\n",
      "307/307 [==============================] - 1s 4ms/step - loss: 3.2681e-04 - val_loss: 3.1870e-04\n",
      "Epoch 52/100\n",
      "307/307 [==============================] - 1s 4ms/step - loss: 3.2743e-04 - val_loss: 3.1088e-04\n",
      "Epoch 53/100\n",
      "307/307 [==============================] - 1s 3ms/step - loss: 3.2610e-04 - val_loss: 3.1294e-04\n",
      "Epoch 54/100\n",
      "307/307 [==============================] - 1s 2ms/step - loss: 3.2518e-04 - val_loss: 3.1187e-04\n",
      "Epoch 55/100\n",
      "307/307 [==============================] - 1s 3ms/step - loss: 3.2648e-04 - val_loss: 3.1452e-04\n",
      "Epoch 56/100\n",
      "307/307 [==============================] - 1s 3ms/step - loss: 3.2647e-04 - val_loss: 3.1182e-04\n",
      "Epoch 57/100\n",
      "307/307 [==============================] - 1s 3ms/step - loss: 3.2520e-04 - val_loss: 3.1102e-04\n",
      "Epoch 58/100\n",
      "307/307 [==============================] - 1s 3ms/step - loss: 3.2605e-04 - val_loss: 3.1543e-04\n",
      "Epoch 59/100\n",
      "307/307 [==============================] - 1s 3ms/step - loss: 3.2549e-04 - val_loss: 3.2559e-04\n",
      "Epoch 60/100\n",
      "307/307 [==============================] - 1s 3ms/step - loss: 3.2502e-04 - val_loss: 3.2166e-04\n",
      "Epoch 61/100\n",
      "307/307 [==============================] - 1s 3ms/step - loss: 3.2595e-04 - val_loss: 3.1042e-04\n",
      "Epoch 62/100\n",
      "307/307 [==============================] - 1s 3ms/step - loss: 3.2496e-04 - val_loss: 3.1317e-04\n",
      "Epoch 63/100\n",
      "307/307 [==============================] - 1s 4ms/step - loss: 3.2562e-04 - val_loss: 3.1134e-04\n",
      "Epoch 64/100\n",
      "307/307 [==============================] - 2s 8ms/step - loss: 3.2510e-04 - val_loss: 3.1952e-04\n",
      "Epoch 65/100\n",
      "307/307 [==============================] - 2s 7ms/step - loss: 3.2652e-04 - val_loss: 3.1507e-04\n",
      "Epoch 66/100\n",
      "307/307 [==============================] - 2s 6ms/step - loss: 3.2489e-04 - val_loss: 3.1541e-04\n",
      "Epoch 67/100\n",
      "307/307 [==============================] - 2s 7ms/step - loss: 3.2668e-04 - val_loss: 3.1346e-04\n",
      "Epoch 68/100\n",
      "307/307 [==============================] - 2s 6ms/step - loss: 3.2587e-04 - val_loss: 3.2641e-04\n",
      "Epoch 69/100\n",
      "307/307 [==============================] - 2s 6ms/step - loss: 3.2518e-04 - val_loss: 3.1212e-04\n",
      "Epoch 70/100\n",
      "307/307 [==============================] - 2s 5ms/step - loss: 3.2579e-04 - val_loss: 3.1187e-04\n",
      "Epoch 71/100\n",
      "307/307 [==============================] - 3s 9ms/step - loss: 3.2470e-04 - val_loss: 3.1023e-04\n",
      "Epoch 72/100\n",
      "307/307 [==============================] - 2s 6ms/step - loss: 3.2397e-04 - val_loss: 3.1035e-04\n",
      "Epoch 73/100\n",
      "307/307 [==============================] - 2s 5ms/step - loss: 3.2510e-04 - val_loss: 3.0953e-04\n",
      "Epoch 74/100\n",
      "307/307 [==============================] - 2s 6ms/step - loss: 3.2380e-04 - val_loss: 3.2869e-04\n",
      "Epoch 75/100\n",
      "307/307 [==============================] - 2s 8ms/step - loss: 3.2476e-04 - val_loss: 3.1036e-04\n",
      "Epoch 76/100\n",
      "307/307 [==============================] - 1s 4ms/step - loss: 3.2495e-04 - val_loss: 3.1127e-04\n",
      "Epoch 77/100\n",
      "307/307 [==============================] - 1s 3ms/step - loss: 3.2430e-04 - val_loss: 3.1016e-04\n",
      "Epoch 78/100\n",
      "307/307 [==============================] - 1s 4ms/step - loss: 3.2550e-04 - val_loss: 3.1829e-04\n",
      "Epoch 79/100\n",
      "307/307 [==============================] - 1s 4ms/step - loss: 3.2443e-04 - val_loss: 3.1137e-04\n",
      "Epoch 80/100\n",
      "307/307 [==============================] - 1s 3ms/step - loss: 3.2311e-04 - val_loss: 3.1219e-04\n",
      "Epoch 81/100\n",
      "307/307 [==============================] - 1s 3ms/step - loss: 3.2432e-04 - val_loss: 3.1335e-04\n",
      "Epoch 82/100\n",
      "307/307 [==============================] - 1s 2ms/step - loss: 3.2513e-04 - val_loss: 3.1046e-04\n",
      "Epoch 83/100\n",
      "307/307 [==============================] - 1s 2ms/step - loss: 3.2470e-04 - val_loss: 3.1094e-04\n"
     ]
    }
   ],
   "source": [
    "# Train the model, this can take some time\n",
    "from keras.callbacks import EarlyStopping\n",
    "#added early stopping the validation loss settle fairly quickly\n",
    "early_stopping = EarlyStopping(monitor='val_loss', patience=10)\n",
    "\n",
    "history = autoencoder.fit(X_train, X_train,\n",
    "                epochs=100,\n",
    "                batch_size=128,\n",
    "                shuffle=True,\n",
    "                validation_data=(X_test, X_test),\n",
    "                callbacks=[early_stopping])\n"
   ]
  },
  {
   "cell_type": "markdown",
   "metadata": {
    "id": "0fBWB78jH-3E"
   },
   "source": [
    "**Step 3: anomaly detection**\n",
    "\n",
    "From the histogram of the reconstruction error decide what the cutoff should be applied to distinguish anomalies from valid samples, given that the anomaly rate is ~7%.\n",
    "\n",
    "Choosing the threshold was pivotal. It was a delicate balance between being too lenient and too strict. I based my decision on a mix of empirical results and theoretical understanding of the data distribution."
   ]
  },
  {
   "cell_type": "code",
   "execution_count": 13,
   "metadata": {
    "colab": {
     "base_uri": "https://localhost:8080/",
     "height": 570
    },
    "id": "3qyTPk17giFO",
    "outputId": "3139b97c-303e-4631-f59a-d5d5a2190824"
   },
   "outputs": [
    {
     "name": "stdout",
     "output_type": "stream",
     "text": [
      "1228/1228 [==============================] - 2s 1ms/step\n",
      "threshold is 0.0009034887167600141\n"
     ]
    },
    {
     "data": {
      "image/png": "[encoded data removed]",
      "text/plain": [
       "<Figure size 1152x576 with 1 Axes>"
      ]
     },
     "metadata": {
      "needs_background": "light"
     },
     "output_type": "display_data"
    },
    {
     "name": "stdout",
     "output_type": "stream",
     "text": [
      "predicted_anomalies 2749\n",
      "actual anomalies: 2791\n",
      "accuracy is 0.9849516302400573\n"
     ]
    }
   ],
   "source": [
    "import matplotlib.pyplot as plt\n",
    "\n",
    "# calculate predictions from our AutoEncoder model for the testing dataset\n",
    "predictions = autoencoder.predict(X_train)\n",
    "\n",
    "# calculate the mean squared error for each sample\n",
    "mse = ((X_train - predictions) ** 2).mean(axis=1)\n",
    "\n",
    "# plot the histogram of mse\n",
    "plt.figure(figsize=(16,8))\n",
    "n, bins, patches = plt.hist(mse, bins=100)\n",
    "\n",
    "# sort the mse in descending order\n",
    "mse_sorted = sorted(mse, reverse=True)\n",
    "\n",
    "# calculate the index of the threshold value\n",
    "threshold_index = int(len(mse_sorted) * 0.07)\n",
    "\n",
    "# set the threshold to the value at the threshold index\n",
    "threshold = mse_sorted[threshold_index]\n",
    "print(f'threshold is {threshold}')\n",
    "\n",
    "# add a vertical line to the plot at the threshold value\n",
    "plt.vlines(threshold, 0, n.max(), colors='r', linewidth=2)\n",
    "\n",
    "# identify the samples that have a mse greater than the threshold \n",
    "anomalies = X_train[mse > threshold]\n",
    "plt.show()\n",
    "\n",
    "actual_anomalies = y_train[y_train == 1]\n",
    "print(f'predicted_anomalies {len(anomalies)}')\n",
    "print(f'actual anomalies: {len(actual_anomalies)}')\n",
    "print(f'accuracy is {len(anomalies)/len(actual_anomalies)}')\n",
    "\n"
   ]
  },
  {
   "cell_type": "markdown",
   "metadata": {
    "id": "Cc7P625rj5M8"
   },
   "source": [
    "**Variational Autoencoder**"
   ]
  },
  {
   "cell_type": "code",
   "execution_count": 14,
   "metadata": {
    "colab": {
     "base_uri": "https://localhost:8080/"
    },
    "id": "SUSc28cvixLo",
    "outputId": "8e1a23a1-58d7-4adb-84f3-9df5e28fb607"
   },
   "outputs": [
    {
     "name": "stdout",
     "output_type": "stream",
     "text": [
      "Model: \"encoder\"\n",
      "__________________________________________________________________________________________________\n",
      " Layer (type)                   Output Shape         Param #     Connected to                     \n",
      "==================================================================================================\n",
      " input_3 (InputLayer)           [(None, 9)]          0           []                               \n",
      "                                                                                                  \n",
      " dense_6 (Dense)                (None, 16)           160         ['input_3[0][0]']                \n",
      "                                                                                                  \n",
      " dense_7 (Dense)                (None, 8)            136         ['dense_6[0][0]']                \n",
      "                                                                                                  \n",
      " dense_8 (Dense)                (None, 2)            18          ['dense_7[0][0]']                \n",
      "                                                                                                  \n",
      " dense_9 (Dense)                (None, 2)            18          ['dense_7[0][0]']                \n",
      "                                                                                                  \n",
      " lambda (Lambda)                (None, 2)            0           ['dense_8[0][0]',                \n",
      "                                                                  'dense_9[0][0]']                \n",
      "                                                                                                  \n",
      "==================================================================================================\n",
      "Total params: 332\n",
      "Trainable params: 332\n",
      "Non-trainable params: 0\n",
      "__________________________________________________________________________________________________\n",
      "Epoch 1/100\n",
      "307/307 [==============================] - 2s 4ms/step - loss: 0.0759 - val_loss: 0.0083\n",
      "Epoch 2/100\n",
      "307/307 [==============================] - 1s 3ms/step - loss: 0.0060 - val_loss: 0.0049\n",
      "Epoch 3/100\n",
      "307/307 [==============================] - 1s 3ms/step - loss: 0.0045 - val_loss: 0.0043\n",
      "Epoch 4/100\n",
      "307/307 [==============================] - 1s 5ms/step - loss: 0.0041 - val_loss: 0.0041\n",
      "Epoch 5/100\n",
      "307/307 [==============================] - 1s 4ms/step - loss: 0.0040 - val_loss: 0.0040\n",
      "Epoch 6/100\n",
      "307/307 [==============================] - 1s 3ms/step - loss: 0.0040 - val_loss: 0.0040\n",
      "Epoch 7/100\n",
      "307/307 [==============================] - 1s 3ms/step - loss: 0.0040 - val_loss: 0.0040\n",
      "Epoch 8/100\n",
      "307/307 [==============================] - 1s 3ms/step - loss: 0.0040 - val_loss: 0.0040\n",
      "Epoch 9/100\n",
      "307/307 [==============================] - 1s 3ms/step - loss: 0.0039 - val_loss: 0.0040\n",
      "Epoch 10/100\n",
      "307/307 [==============================] - 1s 3ms/step - loss: 0.0039 - val_loss: 0.0040\n",
      "Epoch 11/100\n",
      "307/307 [==============================] - 1s 3ms/step - loss: 0.0039 - val_loss: 0.0040\n",
      "Epoch 12/100\n",
      "307/307 [==============================] - 1s 3ms/step - loss: 0.0039 - val_loss: 0.0040\n",
      "Epoch 13/100\n",
      "307/307 [==============================] - 1s 3ms/step - loss: 0.0039 - val_loss: 0.0040\n",
      "Epoch 14/100\n",
      "307/307 [==============================] - 1s 3ms/step - loss: 0.0039 - val_loss: 0.0040\n",
      "Epoch 15/100\n",
      "307/307 [==============================] - 1s 3ms/step - loss: 0.0039 - val_loss: 0.0040\n",
      "Epoch 16/100\n",
      "307/307 [==============================] - 2s 8ms/step - loss: 0.0039 - val_loss: 0.0040\n",
      "Epoch 17/100\n",
      "307/307 [==============================] - 1s 4ms/step - loss: 0.0039 - val_loss: 0.0040\n",
      "Epoch 18/100\n",
      "307/307 [==============================] - 1s 3ms/step - loss: 0.0039 - val_loss: 0.0040\n",
      "Epoch 19/100\n",
      "307/307 [==============================] - 1s 3ms/step - loss: 0.0039 - val_loss: 0.0040\n",
      "Epoch 20/100\n",
      "307/307 [==============================] - 1s 3ms/step - loss: 0.0039 - val_loss: 0.0040\n",
      "Epoch 21/100\n",
      "307/307 [==============================] - 2s 6ms/step - loss: 0.0039 - val_loss: 0.0040\n",
      "Epoch 22/100\n",
      "307/307 [==============================] - 2s 7ms/step - loss: 0.0039 - val_loss: 0.0040\n",
      "Epoch 23/100\n",
      "307/307 [==============================] - 2s 7ms/step - loss: 0.0039 - val_loss: 0.0040\n",
      "Epoch 24/100\n",
      "307/307 [==============================] - 2s 6ms/step - loss: 0.0039 - val_loss: 0.0040\n",
      "Epoch 25/100\n",
      "307/307 [==============================] - 1s 4ms/step - loss: 0.0039 - val_loss: 0.0040\n",
      "Epoch 26/100\n",
      "307/307 [==============================] - 1s 4ms/step - loss: 0.0039 - val_loss: 0.0040\n",
      "Epoch 27/100\n",
      "307/307 [==============================] - 1s 3ms/step - loss: 0.0039 - val_loss: 0.0040\n"
     ]
    }
   ],
   "source": [
    "#To convert the code to a Variational Autoencoder (VAE), we need to add a sampling step and the KL divergence loss term\n",
    "\n",
    "# Define the input layer\n",
    "input_data = Input(shape=(X_train.shape[1],))\n",
    "\n",
    "# Define the encoder\n",
    "encoded = Dense(16, activation='relu')(input_data)\n",
    "encoded = Dense(8, activation='relu')(encoded)\n",
    "# Add a dense layer with 2 neurons and no activation function to get the mean of the latent distribution\n",
    "encoded_mean = Dense(2, activation=None)(encoded)\n",
    "# Add another dense layer with 2 neurons and no activation function to get the log variance of the latent distribution\n",
    "encoded_log_var = Dense(2, activation=None)(encoded)\n",
    "\n",
    "# Define a function to sample from the latent distribution\n",
    "def sample(args):\n",
    "    mean, log_var = args\n",
    "    # Sample a random normal vector\n",
    "    epsilon = K.random_normal(shape=K.shape(mean))\n",
    "    return mean + K.exp(0.5 * log_var) * epsilon\n",
    "\n",
    "# Apply the sample function to the mean and log variance to get a sample from the latent distribution\n",
    "latent_vector = Lambda(sample, output_shape=(2,))([encoded_mean, encoded_log_var])\n",
    "encoder = Model(input_data, [encoded_mean, encoded_log_var, latent_vector], name='encoder')\n",
    "encoder.summary()\n",
    "\n",
    "\n",
    "# Define the decoder\n",
    "decoded = Dense(8, activation='relu')(latent_vector)\n",
    "decoded = Dense(16, activation='relu')(decoded)\n",
    "decoded = Dense(9, activation='linear')(decoded)\n",
    "\n",
    "# Define the reconstruction loss\n",
    "reconstruction_loss = tf.keras.losses.MeanSquaredError()\n",
    "\n",
    "# Define the VAE\n",
    "vae = Model(input_data, decoded)\n",
    "# define kl_divergence loss\n",
    "kl_divergence = - 0.5 * tf.reduce_mean(\n",
    "    1 + encoded_log_var - encoded_mean**2 - tf.exp(encoded_log_var), axis=-1)\n",
    "# add kl_divergence and reconstruction_loss to model\n",
    "vae.add_loss(kl_divergence + reconstruction_loss(input_data, decoded))\n",
    "vae.compile(optimizer='adam')\n",
    "\n",
    "# Train the model with early stopping\n",
    "early_stopping = EarlyStopping(monitor='val_loss', patience=10)\n",
    "history = vae.fit(X_train, X_train,\n",
    "                epochs=100,\n",
    "                batch_size=128,\n",
    "                shuffle=True,\n",
    "                validation_data=(X_test, X_test),\n",
    "                callbacks=[early_stopping])\n"
   ]
  },
  {
   "cell_type": "code",
   "execution_count": 15,
   "metadata": {
    "colab": {
     "base_uri": "https://localhost:8080/",
     "height": 570
    },
    "id": "lwj3be3vsgq1",
    "outputId": "f1d1b943-e5c4-4288-da54-590dc01e96a6"
   },
   "outputs": [
    {
     "name": "stdout",
     "output_type": "stream",
     "text": [
      "1228/1228 [==============================] - 2s 2ms/step\n",
      "threshold is 0.011178404433734267\n"
     ]
    },
    {
     "data": {
      "image/png": "[encoded data removed]",
      "text/plain": [
       "<Figure size 1152x576 with 1 Axes>"
      ]
     },
     "metadata": {
      "needs_background": "light"
     },
     "output_type": "display_data"
    },
    {
     "name": "stdout",
     "output_type": "stream",
     "text": [
      "predicted_anomalies 2749\n",
      "actual anomalies: 2791\n",
      "accuracy is 0.9849516302400573\n"
     ]
    }
   ],
   "source": [
    "# calculate predictions from our AutoEncoder model for the training dataset\n",
    "predictions = vae.predict(X_train)\n",
    "\n",
    "# calculate the mean squared error for each sample\n",
    "mse = ((X_train - predictions) ** 2).mean(axis=1)\n",
    "\n",
    "# plot the histogram of mse\n",
    "plt.figure(figsize=(16,8))\n",
    "n, bins, patches = plt.hist(mse, bins=100)\n",
    "\n",
    "# sort the mse in descending order\n",
    "mse_sorted = sorted(mse, reverse=True)\n",
    "\n",
    "# calculate the index of the threshold value\n",
    "threshold_index = int(len(mse_sorted) * 0.07)\n",
    "\n",
    "# set the threshold to the value at the threshold index\n",
    "threshold = mse_sorted[threshold_index]\n",
    "print(f'threshold is {threshold}')\n",
    "\n",
    "# add a vertical line to the plot at the threshold value\n",
    "plt.vlines(threshold, 0, n.max(), colors='r', linewidth=2)\n",
    "\n",
    "# identify the samples that have a mse greater than the threshold \n",
    "predicted_anomalies = X_train[mse > threshold]\n",
    "\n",
    "y_results =  pd.DataFrame([1 if x > threshold else 0 for x in mse])\n",
    "\n",
    "plt.show()\n",
    "\n",
    "actual_anomalies = y_train[y_train == 1]\n",
    "print(f'predicted_anomalies {len(predicted_anomalies)}')\n",
    "print(f'actual anomalies: {len(actual_anomalies)}')\n",
    "print(f'accuracy is {len(predicted_anomalies)/len(actual_anomalies)}')"
   ]
  },
  {
   "cell_type": "code",
   "execution_count": 17,
   "metadata": {
    "colab": {
     "base_uri": "https://localhost:8080/",
     "height": 669
    },
    "id": "aF-afWFZTK3h",
    "outputId": "b0e7190f-9672-4a5a-ed44-5d3d6639f6d5"
   },
   "outputs": [
    {
     "data": {
      "image/png": "[encoded data removed]",
      "text/plain": [
       "<Figure size 1152x576 with 2 Axes>"
      ]
     },
     "metadata": {
      "needs_background": "light"
     },
     "output_type": "display_data"
    },
    {
     "name": "stdout",
     "output_type": "stream",
     "text": [
      "              precision    recall  f1-score   support\n",
      "\n",
      "           0       1.00      1.00      1.00     36486\n",
      "           1       0.96      0.95      0.96      2791\n",
      "\n",
      "    accuracy                           0.99     39277\n",
      "   macro avg       0.98      0.97      0.98     39277\n",
      "weighted avg       0.99      0.99      0.99     39277\n",
      "\n"
     ]
    }
   ],
   "source": [
    "from sklearn.metrics import confusion_matrix, classification_report\n",
    "import seaborn as sns\n",
    "\n",
    "#plotting the True negative, False Positive, False Negative and True Positive values\n",
    "# on a confusion matrix heatmap\n",
    "cm = confusion_matrix(y_train, y_results)\n",
    "tn, fp, fn, tp = cm.ravel()\n",
    "names = ['TN', 'FP', 'FN', 'TP']\n",
    "counts = [tn, fp, fn, tp]\n",
    "percents = [value / np.sum(cm) for value in cm.flatten()]\n",
    "percentages = ['{:.2%}'.format(value) for value in percents]\n",
    "labels = [f'{n}\\n{c}\\n{p}' for n, c, p in zip(names, counts, percentages)]\n",
    "\n",
    "fig, ax = plt.subplots(figsize=(16, 8))\n",
    "sns.heatmap(cm, annot=np.array(labels).reshape(2, 2), fmt='', ax=ax)\n",
    "ax.set_xlabel(\"Predicted\")\n",
    "ax.set_ylabel(\"True\")\n",
    "plt.title(\"Confusion Matrix Heatmap\")\n",
    "plt.show()\n",
    "print(classification_report(y_train, y_results))"
   ]
  }
 ],
 "metadata": {
  "colab": {
   "provenance": []
  },
  "kernelspec": {
   "display_name": "Python 3",
   "language": "python",
   "name": "python3"
  },
  "language_info": {
   "codemirror_mode": {
    "name": "ipython",
    "version": 3
   },
   "file_extension": ".py",
   "mimetype": "text/x-python",
   "name": "python",
   "nbconvert_exporter": "python",
   "pygments_lexer": "ipython3",
   "version": "3.7.15"
  },
  "latex_envs": {
   "LaTeX_envs_menu_present": true,
   "autoclose": false,
   "autocomplete": true,
   "bibliofile": "biblio.bib",
   "cite_by": "apalike",
   "current_citInitial": 1,
   "eqLabelWithNumbers": true,
   "eqNumInitial": 1,
   "hotkeys": {
    "equation": "Ctrl-E",
    "itemize": "Ctrl-I"
   },
   "labels_anchors": false,
   "latex_user_defs": false,
   "report_style_numbering": false,
   "user_envs_cfg": false
  }
 },
 "nbformat": 4,
 "nbformat_minor": 0
}
